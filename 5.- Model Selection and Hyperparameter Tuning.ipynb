{
 "cells": [
  {
   "cell_type": "markdown",
   "metadata": {},
   "source": [
    "# Model Selection and Hyperparameter Tuning in Spark Scala"
   ]
  },
  {
   "cell_type": "markdown",
   "metadata": {},
   "source": [
    "# 1.- Cross Validation\n",
    "\n",
    "After identifying the best ParamMap, CrossValidator finally re-fits the Estimator using the best ParamMap and the entire dataset."
   ]
  },
  {
   "cell_type": "code",
   "execution_count": 1,
   "metadata": {},
   "outputs": [
    {
     "data": {
      "text/plain": [
       "Intitializing Scala interpreter ..."
      ]
     },
     "metadata": {},
     "output_type": "display_data"
    },
    {
     "data": {
      "text/plain": [
       "Spark Web UI available at http://DESKTOP-FQ2BOOJ:4040\n",
       "SparkContext available as 'sc' (version = 2.4.0, master = local[*], app id = local-1557917998169)\n",
       "SparkSession available as 'spark'\n"
      ]
     },
     "metadata": {},
     "output_type": "display_data"
    },
    {
     "data": {
      "text/plain": [
       "import org.apache.spark.ml.Pipeline\n",
       "import org.apache.spark.ml.classification.LogisticRegression\n",
       "import org.apache.spark.ml.evaluation.BinaryClassificationEvaluator\n",
       "import org.apache.spark.ml.feature.{HashingTF, Tokenizer}\n",
       "import org.apache.spark.ml.linalg.Vector\n",
       "import org.apache.spark.ml.tuning.{CrossValidator, ParamGridBuilder}\n",
       "import org.apache.spark.sql.Row\n"
      ]
     },
     "execution_count": 1,
     "metadata": {},
     "output_type": "execute_result"
    }
   ],
   "source": [
    "import org.apache.spark.ml.Pipeline\n",
    "import org.apache.spark.ml.classification.LogisticRegression\n",
    "import org.apache.spark.ml.evaluation.BinaryClassificationEvaluator\n",
    "import org.apache.spark.ml.feature.{HashingTF, Tokenizer}\n",
    "import org.apache.spark.ml.linalg.Vector\n",
    "import org.apache.spark.ml.tuning.{CrossValidator, ParamGridBuilder}\n",
    "import org.apache.spark.sql.Row"
   ]
  },
  {
   "cell_type": "markdown",
   "metadata": {},
   "source": [
    "## 1.1.- Synthetic toy data - training set"
   ]
  },
  {
   "cell_type": "code",
   "execution_count": 2,
   "metadata": {},
   "outputs": [
    {
     "data": {
      "text/plain": [
       "training: org.apache.spark.sql.DataFrame = [id: bigint, text: string ... 1 more field]\n"
      ]
     },
     "execution_count": 2,
     "metadata": {},
     "output_type": "execute_result"
    }
   ],
   "source": [
    "// Prepare training data from a list of (id, text, label) tuples.\n",
    "val training = spark.createDataFrame(Seq(\n",
    "  (0L, \"a b c d e spark\", 1.0),\n",
    "  (1L, \"b d\", 0.0),\n",
    "  (2L, \"spark f g h\", 1.0),\n",
    "  (3L, \"hadoop mapreduce\", 0.0),\n",
    "  (4L, \"b spark who\", 1.0),\n",
    "  (5L, \"g d a y\", 0.0),\n",
    "  (6L, \"spark fly\", 1.0),\n",
    "  (7L, \"was mapreduce\", 0.0),\n",
    "  (8L, \"e spark program\", 1.0),\n",
    "  (9L, \"a e c l\", 0.0),\n",
    "  (10L, \"spark compile\", 1.0),\n",
    "  (11L, \"hadoop software\", 0.0)\n",
    ")).toDF(\"id\", \"text\", \"label\")"
   ]
  },
  {
   "cell_type": "code",
   "execution_count": 3,
   "metadata": {},
   "outputs": [
    {
     "name": "stdout",
     "output_type": "stream",
     "text": [
      "+---+----------------+-----+\n",
      "| id|            text|label|\n",
      "+---+----------------+-----+\n",
      "|  0| a b c d e spark|  1.0|\n",
      "|  1|             b d|  0.0|\n",
      "|  2|     spark f g h|  1.0|\n",
      "|  3|hadoop mapreduce|  0.0|\n",
      "|  4|     b spark who|  1.0|\n",
      "|  5|         g d a y|  0.0|\n",
      "|  6|       spark fly|  1.0|\n",
      "|  7|   was mapreduce|  0.0|\n",
      "|  8| e spark program|  1.0|\n",
      "|  9|         a e c l|  0.0|\n",
      "| 10|   spark compile|  1.0|\n",
      "| 11| hadoop software|  0.0|\n",
      "+---+----------------+-----+\n",
      "\n"
     ]
    }
   ],
   "source": [
    "training.show"
   ]
  },
  {
   "cell_type": "markdown",
   "metadata": {},
   "source": [
    "## 1.2.- Pipeline setup"
   ]
  },
  {
   "cell_type": "code",
   "execution_count": 4,
   "metadata": {},
   "outputs": [
    {
     "data": {
      "text/plain": [
       "tokenizer: org.apache.spark.ml.feature.Tokenizer = tok_925d1345009f\n",
       "hashingTF: org.apache.spark.ml.feature.HashingTF = hashingTF_ad3a27a2a48b\n",
       "lr: org.apache.spark.ml.classification.LogisticRegression = logreg_8baceda80076\n",
       "pipeline: org.apache.spark.ml.Pipeline = pipeline_950fc1751bcf\n"
      ]
     },
     "execution_count": 4,
     "metadata": {},
     "output_type": "execute_result"
    }
   ],
   "source": [
    "// Configure an ML pipeline, which consists of three stages: tokenizer, hashingTF, and lr.\n",
    "val tokenizer = new Tokenizer()\n",
    "  .setInputCol(\"text\")\n",
    "  .setOutputCol(\"words\")\n",
    "val hashingTF = new HashingTF()\n",
    "  .setInputCol(tokenizer.getOutputCol)\n",
    "  .setOutputCol(\"features\")\n",
    "val lr = new LogisticRegression()\n",
    "  .setMaxIter(10)\n",
    "val pipeline = new Pipeline()\n",
    "  .setStages(Array(tokenizer, hashingTF, lr))"
   ]
  },
  {
   "cell_type": "markdown",
   "metadata": {},
   "source": [
    "## 1.3.- Parameter grid"
   ]
  },
  {
   "cell_type": "code",
   "execution_count": 5,
   "metadata": {},
   "outputs": [
    {
     "data": {
      "text/plain": [
       "paramGrid: Array[org.apache.spark.ml.param.ParamMap] =\n",
       "Array({\n",
       "\thashingTF_ad3a27a2a48b-numFeatures: 10,\n",
       "\tlogreg_8baceda80076-regParam: 0.1\n",
       "}, {\n",
       "\thashingTF_ad3a27a2a48b-numFeatures: 10,\n",
       "\tlogreg_8baceda80076-regParam: 0.01\n",
       "}, {\n",
       "\thashingTF_ad3a27a2a48b-numFeatures: 100,\n",
       "\tlogreg_8baceda80076-regParam: 0.1\n",
       "}, {\n",
       "\thashingTF_ad3a27a2a48b-numFeatures: 100,\n",
       "\tlogreg_8baceda80076-regParam: 0.01\n",
       "}, {\n",
       "\thashingTF_ad3a27a2a48b-numFeatures: 1000,\n",
       "\tlogreg_8baceda80076-regParam: 0.1\n",
       "}, {\n",
       "\thashingTF_ad3a27a2a48b-numFeatures: 1000,\n",
       "\tlogreg_8baceda80076-regParam: 0.01\n",
       "})\n"
      ]
     },
     "execution_count": 5,
     "metadata": {},
     "output_type": "execute_result"
    }
   ],
   "source": [
    "// We use a ParamGridBuilder to construct a grid of parameters to search over.\n",
    "// With 3 values for hashingTF.numFeatures and 2 values for lr.regParam,\n",
    "// this grid will have 3 x 2 = 6 parameter settings for CrossValidator to choose from.\n",
    "val paramGrid = new ParamGridBuilder()\n",
    "  .addGrid(hashingTF.numFeatures, Array(10, 100, 1000))\n",
    "  .addGrid(lr.regParam, Array(0.1, 0.01))\n",
    "  .build()"
   ]
  },
  {
   "cell_type": "markdown",
   "metadata": {},
   "source": [
    "## 1.4.- Cross-validator setup"
   ]
  },
  {
   "cell_type": "code",
   "execution_count": 6,
   "metadata": {},
   "outputs": [
    {
     "data": {
      "text/plain": [
       "cv: org.apache.spark.ml.tuning.CrossValidator = cv_bfcf8888a3ab\n"
      ]
     },
     "execution_count": 6,
     "metadata": {},
     "output_type": "execute_result"
    }
   ],
   "source": [
    "// We now treat the Pipeline as an Estimator, wrapping it in a CrossValidator instance.\n",
    "// This will allow us to jointly choose parameters for all Pipeline stages.\n",
    "// A CrossValidator requires an Estimator, a set of Estimator ParamMaps, and an Evaluator.\n",
    "// Note that the evaluator here is a BinaryClassificationEvaluator and its default metric\n",
    "// is areaUnderROC.\n",
    "val cv = new CrossValidator()\n",
    "  .setEstimator(pipeline)\n",
    "  .setEvaluator(new BinaryClassificationEvaluator)\n",
    "  .setEstimatorParamMaps(paramGrid)\n",
    "  .setNumFolds(2)  // Use 3+ in practice\n",
    "  .setParallelism(2)  // Evaluate up to 2 parameter settings in parallel\n"
   ]
  },
  {
   "cell_type": "markdown",
   "metadata": {},
   "source": [
    "With **BinaryClassificationEvaluator** the available metrics are (see https://spark.apache.org/docs/2.1.0/api/scala/index.html#org.apache.spark.mllib.evaluation.BinaryClassificationMetrics):\n",
    "\n",
    "* areaUnderROC (default\n",
    "* areaUnderPR\n",
    "* fMeasureByThreshold\n",
    "* precisionByThreshold\n",
    "* recallByThreshold\n",
    "* roc"
   ]
  },
  {
   "cell_type": "code",
   "execution_count": 7,
   "metadata": {},
   "outputs": [
    {
     "name": "stdout",
     "output_type": "stream",
     "text": [
      "2019-05-15 12:02:42 WARN  BLAS:61 - Failed to load implementation from: com.github.fommil.netlib.NativeSystemBLAS\n",
      "2019-05-15 12:02:42 WARN  BLAS:61 - Failed to load implementation from: com.github.fommil.netlib.NativeRefBLAS\n"
     ]
    },
    {
     "data": {
      "text/plain": [
       "cvModel: org.apache.spark.ml.tuning.CrossValidatorModel = cv_bfcf8888a3ab\n"
      ]
     },
     "execution_count": 7,
     "metadata": {},
     "output_type": "execute_result"
    }
   ],
   "source": [
    "// Run cross-validation, and choose the best set of parameters.\n",
    "val cvModel = cv.fit(training)"
   ]
  },
  {
   "cell_type": "code",
   "execution_count": 8,
   "metadata": {},
   "outputs": [
    {
     "data": {
      "text/plain": [
       "res1: Array[Double] = Array(0.625, 0.6125, 0.875, 0.8875, 0.85, 0.85)\n"
      ]
     },
     "execution_count": 8,
     "metadata": {},
     "output_type": "execute_result"
    }
   ],
   "source": [
    "// average metrics (ROC) for each point in the grid\n",
    "cvModel.avgMetrics"
   ]
  },
  {
   "cell_type": "markdown",
   "metadata": {},
   "source": [
    "## 1.5.- Synthetic toy data - test set"
   ]
  },
  {
   "cell_type": "code",
   "execution_count": 10,
   "metadata": {},
   "outputs": [
    {
     "data": {
      "text/plain": [
       "test: org.apache.spark.sql.DataFrame = [id: bigint, text: string]\n"
      ]
     },
     "execution_count": 10,
     "metadata": {},
     "output_type": "execute_result"
    }
   ],
   "source": [
    "// Prepare test documents, which are unlabeled (id, text) tuples.\n",
    "val test = spark.createDataFrame(Seq(\n",
    "  (4L, \"spark i j k\"),`\n",
    "  (5L, \"l m n\"),\n",
    "  (6L, \"mapreduce spark\"),\n",
    "  (7L, \"apache hadoop\")\n",
    ")).toDF(\"id\", \"text\")"
   ]
  },
  {
   "cell_type": "code",
   "execution_count": 11,
   "metadata": {},
   "outputs": [
    {
     "name": "stdout",
     "output_type": "stream",
     "text": [
      "+---+---------------+\n",
      "| id|           text|\n",
      "+---+---------------+\n",
      "|  4|    spark i j k|\n",
      "|  5|          l m n|\n",
      "|  6|mapreduce spark|\n",
      "|  7|  apache hadoop|\n",
      "+---+---------------+\n",
      "\n"
     ]
    }
   ],
   "source": [
    "test.show"
   ]
  },
  {
   "cell_type": "markdown",
   "metadata": {},
   "source": [
    "## 1.6.- Prediction on test data"
   ]
  },
  {
   "cell_type": "code",
   "execution_count": 12,
   "metadata": {},
   "outputs": [
    {
     "name": "stdout",
     "output_type": "stream",
     "text": [
      "(4, spark i j k) --> prob=[0.12566260711357224,0.8743373928864279], prediction=1.0\n",
      "(5, l m n) --> prob=[0.995215441016286,0.004784558983714], prediction=0.0\n",
      "(6, mapreduce spark) --> prob=[0.30696895232625965,0.6930310476737404], prediction=1.0\n",
      "(7, apache hadoop) --> prob=[0.8040279442401378,0.19597205575986223], prediction=0.0\n"
     ]
    }
   ],
   "source": [
    "// Make predictions on test documents. cvModel uses the best model found (lrModel).\n",
    "cvModel.transform(test)\n",
    "  .select(\"id\", \"text\", \"probability\", \"prediction\")\n",
    "  .collect()\n",
    "  .foreach { case Row(id: Long, text: String, prob: Vector, prediction: Double) =>\n",
    "    println(s\"($id, $text) --> prob=$prob, prediction=$prediction\")\n",
    "  }"
   ]
  },
  {
   "cell_type": "markdown",
   "metadata": {},
   "source": [
    "# 2.- Train - Validation Split"
   ]
  },
  {
   "cell_type": "code",
   "execution_count": 14,
   "metadata": {},
   "outputs": [
    {
     "data": {
      "text/plain": [
       "import org.apache.spark.ml.evaluation.RegressionEvaluator\n",
       "import org.apache.spark.ml.regression.LinearRegression\n",
       "import org.apache.spark.ml.tuning.{ParamGridBuilder, TrainValidationSplit}\n"
      ]
     },
     "execution_count": 14,
     "metadata": {},
     "output_type": "execute_result"
    }
   ],
   "source": [
    "import org.apache.spark.ml.evaluation.RegressionEvaluator\n",
    "import org.apache.spark.ml.regression.LinearRegression\n",
    "import org.apache.spark.ml.tuning.{ParamGridBuilder, TrainValidationSplit}"
   ]
  },
  {
   "cell_type": "markdown",
   "metadata": {},
   "source": [
    "## 2.1.- Load data, train/test split"
   ]
  },
  {
   "cell_type": "code",
   "execution_count": 16,
   "metadata": {},
   "outputs": [
    {
     "name": "stdout",
     "output_type": "stream",
     "text": [
      "2019-05-15 15:15:02 WARN  LibSVMFileFormat:66 - 'numFeatures' option not specified, determining the number of features by going though the input. If you know the number in advance, please specify it via 'numFeatures' option to avoid the extra scan.\n"
     ]
    },
    {
     "data": {
      "text/plain": [
       "data: org.apache.spark.sql.DataFrame = [label: double, features: vector]\n",
       "training: org.apache.spark.sql.Dataset[org.apache.spark.sql.Row] = [label: double, features: vector]\n",
       "test: org.apache.spark.sql.Dataset[org.apache.spark.sql.Row] = [label: double, features: vector]\n"
      ]
     },
     "execution_count": 16,
     "metadata": {},
     "output_type": "execute_result"
    }
   ],
   "source": [
    "// Prepare training and test data.\n",
    "val data = spark.read.format(\"libsvm\").load(\"/home/jmalbornoz/Downloads/spark-2.4.0-bin-hadoop2.7/data/mllib/sample_linear_regression_data.txt\")\n",
    "val Array(training, test) = data.randomSplit(Array(0.9, 0.1), seed = 12345)"
   ]
  },
  {
   "cell_type": "markdown",
   "metadata": {},
   "source": [
    "## 2.2.- Linear regression estimator"
   ]
  },
  {
   "cell_type": "code",
   "execution_count": 17,
   "metadata": {},
   "outputs": [
    {
     "data": {
      "text/plain": [
       "lr: org.apache.spark.ml.regression.LinearRegression = linReg_54f5c5a30375\n"
      ]
     },
     "execution_count": 17,
     "metadata": {},
     "output_type": "execute_result"
    }
   ],
   "source": [
    "val lr = new LinearRegression().setMaxIter(10)"
   ]
  },
  {
   "cell_type": "markdown",
   "metadata": {},
   "source": [
    "## 2.3.- Parameter grid"
   ]
  },
  {
   "cell_type": "code",
   "execution_count": 18,
   "metadata": {},
   "outputs": [
    {
     "data": {
      "text/plain": [
       "paramGrid: Array[org.apache.spark.ml.param.ParamMap] =\n",
       "Array({\n",
       "\tlinReg_54f5c5a30375-elasticNetParam: 0.0,\n",
       "\tlinReg_54f5c5a30375-fitIntercept: true,\n",
       "\tlinReg_54f5c5a30375-regParam: 0.1\n",
       "}, {\n",
       "\tlinReg_54f5c5a30375-elasticNetParam: 0.0,\n",
       "\tlinReg_54f5c5a30375-fitIntercept: false,\n",
       "\tlinReg_54f5c5a30375-regParam: 0.1\n",
       "}, {\n",
       "\tlinReg_54f5c5a30375-elasticNetParam: 0.5,\n",
       "\tlinReg_54f5c5a30375-fitIntercept: true,\n",
       "\tlinReg_54f5c5a30375-regParam: 0.1\n",
       "}, {\n",
       "\tlinReg_54f5c5a30375-elasticNetParam: 0.5,\n",
       "\tlinReg_54f5c5a30375-fitIntercept: false,\n",
       "\tlinReg_54f5c5a30375-regParam: 0.1\n",
       "}, {\n",
       "\tlinReg_54f5c5a30375-elasticNetParam: 1.0,\n",
       "\tlinReg_54f5c5a30375-fitIntercept: true,\n",
       "\tlinReg_54f5c5a30375-regParam: 0.1\n",
       "}, {\n",
       "\tlinReg_54f5c5a30375-elasticNetParam: 1.0,\n",
       "\tlinReg_54f5c5a30375-fitIntercept: false,\n",
       "\tlinReg_54f5c5a30375-regPar..."
      ]
     },
     "execution_count": 18,
     "metadata": {},
     "output_type": "execute_result"
    }
   ],
   "source": [
    "// We use a ParamGridBuilder to construct a grid of parameters to search over.\n",
    "// TrainValidationSplit will try all combinations of values and determine best model using\n",
    "// the evaluator.\n",
    "val paramGrid = new ParamGridBuilder()\n",
    "  .addGrid(lr.regParam, Array(0.1, 0.01))\n",
    "  .addGrid(lr.fitIntercept)\n",
    "  .addGrid(lr.elasticNetParam, Array(0.0, 0.5, 1.0))\n",
    "  .build()"
   ]
  },
  {
   "cell_type": "markdown",
   "metadata": {},
   "source": [
    "## 2.4.- Train/validation setup"
   ]
  },
  {
   "cell_type": "code",
   "execution_count": 19,
   "metadata": {},
   "outputs": [
    {
     "data": {
      "text/plain": [
       "trainValidationSplit: org.apache.spark.ml.tuning.TrainValidationSplit = tvs_81ab3cac8664\n"
      ]
     },
     "execution_count": 19,
     "metadata": {},
     "output_type": "execute_result"
    }
   ],
   "source": [
    "// In this case the estimator is simply the linear regression.\n",
    "// A TrainValidationSplit requires an Estimator, a set of Estimator ParamMaps, and an Evaluator.\n",
    "val trainValidationSplit = new TrainValidationSplit()\n",
    "  .setEstimator(lr)\n",
    "  .setEvaluator(new RegressionEvaluator)\n",
    "  .setEstimatorParamMaps(paramGrid)\n",
    "  // 80% of the data will be used for training and the remaining 20% for validation.\n",
    "  .setTrainRatio(0.8)\n",
    "  // Evaluate up to 2 parameter settings in parallel\n",
    "  .setParallelism(2)"
   ]
  },
  {
   "cell_type": "code",
   "execution_count": 20,
   "metadata": {},
   "outputs": [
    {
     "name": "stdout",
     "output_type": "stream",
     "text": [
      "2019-05-15 15:21:14 WARN  LAPACK:61 - Failed to load implementation from: com.github.fommil.netlib.NativeSystemLAPACK\n",
      "2019-05-15 15:21:14 WARN  LAPACK:61 - Failed to load implementation from: com.github.fommil.netlib.NativeRefLAPACK\n"
     ]
    },
    {
     "data": {
      "text/plain": [
       "model: org.apache.spark.ml.tuning.TrainValidationSplitModel = tvs_81ab3cac8664\n"
      ]
     },
     "execution_count": 20,
     "metadata": {},
     "output_type": "execute_result"
    }
   ],
   "source": [
    "// Run train validation split, and choose the best set of parameters.\n",
    "val model = trainValidationSplit.fit(training)"
   ]
  },
  {
   "cell_type": "markdown",
   "metadata": {},
   "source": [
    "## 2.5.- Prediction on test data"
   ]
  },
  {
   "cell_type": "code",
   "execution_count": 23,
   "metadata": {},
   "outputs": [
    {
     "name": "stdout",
     "output_type": "stream",
     "text": [
      "+--------------------+--------------------+--------------------+\n",
      "|            features|               label|          prediction|\n",
      "+--------------------+--------------------+--------------------+\n",
      "|(10,[0,1,2,3,4,5,...|  -23.51088409032297| -1.6659388625179559|\n",
      "|(10,[0,1,2,3,4,5,...| -21.432387764165806|  0.3400877302576284|\n",
      "|(10,[0,1,2,3,4,5,...| -12.977848725392104|-0.02335359093652395|\n",
      "|(10,[0,1,2,3,4,5,...| -11.827072996392571|  2.5642684021108417|\n",
      "|(10,[0,1,2,3,4,5,...| -10.945919657782932| -0.1631314487734783|\n",
      "|(10,[0,1,2,3,4,5,...|  -10.58331129986813|   2.517790654691453|\n",
      "|(10,[0,1,2,3,4,5,...| -10.288657252388708| -0.9443474180536754|\n",
      "|(10,[0,1,2,3,4,5,...|  -8.822357870425154|  0.6872889429113783|\n",
      "|(10,[0,1,2,3,4,5,...|  -8.772667465932606|  -1.485408580416465|\n",
      "|(10,[0,1,2,3,4,5,...|  -8.605713514762092|   1.110272909026478|\n",
      "|(10,[0,1,2,3,4,5,...|  -6.544633229269576|  3.0454559778611285|\n",
      "|(10,[0,1,2,3,4,5,...|  -5.055293333055445|  0.6441174575094268|\n",
      "|(10,[0,1,2,3,4,5,...|  -5.039628433467326|  0.9572366607107066|\n",
      "|(10,[0,1,2,3,4,5,...|  -4.937258492902948|  0.2292114538379546|\n",
      "|(10,[0,1,2,3,4,5,...|  -3.741044592262687|   3.343205816009816|\n",
      "|(10,[0,1,2,3,4,5,...|  -3.731112242951253| -2.6826413698701064|\n",
      "|(10,[0,1,2,3,4,5,...|  -2.109441044710089| -2.1930034039595445|\n",
      "|(10,[0,1,2,3,4,5,...| -1.8722161156986976| 0.49547270330052423|\n",
      "|(10,[0,1,2,3,4,5,...| -1.1009750789589774| -0.9441633113006601|\n",
      "|(10,[0,1,2,3,4,5,...|-0.48115211266405217| -0.6756196573079968|\n",
      "+--------------------+--------------------+--------------------+\n",
      "only showing top 20 rows\n",
      "\n"
     ]
    }
   ],
   "source": [
    "// Make predictions on test data. model is the model with combination of parameters\n",
    "// that performed best.\n",
    "model.transform(test)\n",
    "  .select(\"features\", \"label\", \"prediction\")\n",
    "  .show()"
   ]
  }
 ],
 "metadata": {
  "kernelspec": {
   "display_name": "spylon-kernel",
   "language": "scala",
   "name": "spylon-kernel"
  },
  "language_info": {
   "codemirror_mode": "text/x-scala",
   "file_extension": ".scala",
   "help_links": [
    {
     "text": "MetaKernel Magics",
     "url": "https://github.com/calysto/metakernel/blob/master/metakernel/magics/README.md"
    }
   ],
   "mimetype": "text/x-scala",
   "name": "scala",
   "pygments_lexer": "scala",
   "version": "0.4.1"
  }
 },
 "nbformat": 4,
 "nbformat_minor": 2
}
